{
 "cells": [
  {
   "cell_type": "code",
   "execution_count": 1,
   "id": "9ed700c5",
   "metadata": {},
   "outputs": [],
   "source": [
    "import pandas as pd\n",
    "import numpy as np\n",
    "\n",
    "import requests\n",
    "from requests import get"
   ]
  },
  {
   "cell_type": "markdown",
   "id": "e4bd845b",
   "metadata": {},
   "source": [
    "Call requests.get(url) with the URL of the .csv as url to return a requests.Response object. Generate the content from the requests.Response object using requests.Response.content. Call open(file, mode) with the desired filename as file and wb as mode to return a file object that has been opened for writing. Call file.write(str) with the file object as file and the content of the request as str to write the contents of the .csv stored at the URL to the specified file.\n",
    "https://www.adamsmith.haus/python/answers/how-to-download-a-csv-file-from-a-url-in-python"
   ]
  },
  {
   "cell_type": "code",
   "execution_count": 2,
   "id": "a9c727b4",
   "metadata": {},
   "outputs": [],
   "source": [
    "#Due Diligence List\n",
    "\n",
    "csv_url = \"https://data.opensanctions.org/datasets/latest/default/targets.simple.csv\"\n",
    "\n",
    "req = requests.get(csv_url)\n",
    "url_content = req.content\n",
    "csv_file = open('targets.Due_Diligence_List.csv', 'wb')\n",
    "\n",
    "csv_file.write(url_content)\n",
    "csv_file.close()"
   ]
  },
  {
   "cell_type": "code",
   "execution_count": 3,
   "id": "a3f1a90b",
   "metadata": {},
   "outputs": [],
   "source": [
    "#Politically Exposed Persons list\n",
    "\n",
    "csv_url1 = \"https://data.opensanctions.org/datasets/latest/peps/targets.simple.csv\"\n",
    "\n",
    "req = requests.get(csv_url1)\n",
    "url_content = req.content\n",
    "csv_file = open('targets.Politically_Exposed_Persons.csv', 'wb')\n",
    "\n",
    "csv_file.write(url_content)\n",
    "csv_file.close()"
   ]
  },
  {
   "cell_type": "code",
   "execution_count": 4,
   "id": "1623b2ad",
   "metadata": {},
   "outputs": [],
   "source": [
    "#Consolidated Sanctioned Entities list\n",
    "\n",
    "csv_url2 = \"https://data.opensanctions.org/datasets/latest/sanctions/targets.simple.csv\"\n",
    "\n",
    "req = requests.get(csv_url2)\n",
    "url_content = req.content\n",
    "csv_file = open('targets.Consolidated_Sanctioned_Entities.csv', 'wb')\n",
    "\n",
    "csv_file.write(url_content)\n",
    "csv_file.close()"
   ]
  },
  {
   "cell_type": "code",
   "execution_count": 5,
   "id": "fbd8ed95",
   "metadata": {},
   "outputs": [],
   "source": [
    "#Warrants and Criminal Entities list\n",
    "\n",
    "csv_url3 = \"https://data.opensanctions.org/datasets/latest/crime/targets.simple.csv\"\n",
    "\n",
    "req = requests.get(csv_url3)\n",
    "url_content = req.content\n",
    "csv_file = open('targets.Warrants_and_Criminal_Entities.csv', 'wb')\n",
    "\n",
    "csv_file.write(url_content)\n",
    "csv_file.close()"
   ]
  }
 ],
 "metadata": {
  "kernelspec": {
   "display_name": "Python 3",
   "language": "python",
   "name": "python3"
  },
  "language_info": {
   "codemirror_mode": {
    "name": "ipython",
    "version": 3
   },
   "file_extension": ".py",
   "mimetype": "text/x-python",
   "name": "python",
   "nbconvert_exporter": "python",
   "pygments_lexer": "ipython3",
   "version": "3.8.11"
  }
 },
 "nbformat": 4,
 "nbformat_minor": 5
}
